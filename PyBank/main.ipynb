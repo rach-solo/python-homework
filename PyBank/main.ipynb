{
 "cells": [
  {
   "cell_type": "code",
   "execution_count": 157,
   "metadata": {},
   "outputs": [],
   "source": [
    "from pathlib import Path\n",
    "import csv"
   ]
  },
  {
   "cell_type": "code",
   "execution_count": 158,
   "metadata": {},
   "outputs": [],
   "source": [
    "csvpath = Path(\"pybank.csv\")"
   ]
  },
  {
   "cell_type": "code",
   "execution_count": 159,
   "metadata": {},
   "outputs": [],
   "source": [
    "months = []\n",
    "profits_losses = []\n",
    "greatest_increase = 0\n",
    "greatest_decrease = 0"
   ]
  },
  {
   "cell_type": "code",
   "execution_count": 160,
   "metadata": {},
   "outputs": [],
   "source": [
    "line = 0"
   ]
  },
  {
   "cell_type": "code",
   "execution_count": 161,
   "metadata": {},
   "outputs": [
    {
     "name": "stdout",
     "output_type": "stream",
     "text": [
      "['Date', 'Profit/Losses']\n",
      "['Jan-10', '867884']\n",
      "['Feb-10', '984655']\n",
      "['Mar-10', '322013']\n",
      "['Apr-10', '-69417']\n",
      "['May-10', '310503']\n",
      "['Jun-10', '522857']\n",
      "['Jul-10', '1033096']\n",
      "['Aug-10', '604885']\n",
      "['Sep-10', '-216386']\n",
      "['Oct-10', '477532']\n",
      "['Nov-10', '893810']\n",
      "['Dec-10', '-80353']\n",
      "['Jan-11', '779806']\n",
      "['Feb-11', '-335203']\n",
      "['Mar-11', '697845']\n",
      "['Apr-11', '793163']\n",
      "['May-11', '485070']\n",
      "['Jun-11', '584122']\n",
      "['Jul-11', '62729']\n",
      "['Aug-11', '668179']\n",
      "['Sep-11', '899906']\n",
      "['Oct-11', '834719']\n",
      "['Nov-11', '132003']\n",
      "['Dec-11', '309978']\n",
      "['Jan-12', '-755566']\n",
      "['Feb-12', '1170593']\n",
      "['Mar-12', '252788']\n",
      "['Apr-12', '1151518']\n",
      "['May-12', '817256']\n",
      "['Jun-12', '570757']\n",
      "['Jul-12', '506702']\n",
      "['Aug-12', '-1022534']\n",
      "['Sep-12', '475062']\n",
      "['Oct-12', '779976']\n",
      "['Nov-12', '144175']\n",
      "['Dec-12', '542494']\n",
      "['Jan-13', '359333']\n",
      "['Feb-13', '321469']\n",
      "['Mar-13', '67780']\n",
      "['Apr-13', '471435']\n",
      "['May-13', '565603']\n",
      "['Jun-13', '872480']\n",
      "['Jul-13', '789480']\n",
      "['Aug-13', '999942']\n",
      "['Sep-13', '-1196225']\n",
      "['Oct-13', '268997']\n",
      "['Nov-13', '-687986']\n",
      "['Dec-13', '1150461']\n",
      "['Jan-14', '682458']\n",
      "['Feb-14', '617856']\n",
      "['Mar-14', '824098']\n",
      "['Apr-14', '581943']\n",
      "['May-14', '132864']\n",
      "['Jun-14', '448062']\n",
      "['Jul-14', '689161']\n",
      "['Aug-14', '800701']\n",
      "['Sep-14', '1166643']\n",
      "['Oct-14', '947333']\n",
      "['Nov-14', '578668']\n",
      "['Dec-14', '988505']\n",
      "['Jan-15', '1139715']\n",
      "['Feb-15', '1029471']\n",
      "['Mar-15', '687533']\n",
      "['Apr-15', '-524626']\n",
      "['May-15', '158620']\n",
      "['Jun-15', '87795']\n",
      "['Jul-15', '423389']\n",
      "['Aug-15', '840723']\n",
      "['Sep-15', '568529']\n",
      "['Oct-15', '332067']\n",
      "['Nov-15', '989499']\n",
      "['Dec-15', '778237']\n",
      "['Jan-16', '650000']\n",
      "['Feb-16', '-1100387']\n",
      "['Mar-16', '-174946']\n",
      "['Apr-16', '757143']\n",
      "['May-16', '445709']\n",
      "['Jun-16', '712961']\n",
      "['Jul-16', '-1163797']\n",
      "['Aug-16', '569899']\n",
      "['Sep-16', '768450']\n",
      "['Oct-16', '102685']\n",
      "['Nov-16', '795914']\n",
      "['Dec-16', '60988']\n",
      "['Jan-17', '138230']\n",
      "['Feb-17', '671099']\n"
     ]
    }
   ],
   "source": [
    "with open(csvpath, 'r') as csvfile:\n",
    "    csv_reader = csv.reader(csvfile, delimiter=',')\n",
    "    csv_header = next(csv_reader)\n",
    "    print(csv_header)\n",
    "    for row in csv_reader:\n",
    "        print(row)\n",
    "        month = (row[0])\n",
    "        months.append(month)\n",
    "        profit_loss = int(row[1])\n",
    "        profits_losses.append(profit_loss)"
   ]
  },
  {
   "cell_type": "code",
   "execution_count": 162,
   "metadata": {},
   "outputs": [
    {
     "name": "stdout",
     "output_type": "stream",
     "text": [
      "86\n"
     ]
    }
   ],
   "source": [
    "total_months = len(months)\n",
    "print(total_months)"
   ]
  },
  {
   "cell_type": "code",
   "execution_count": 163,
   "metadata": {},
   "outputs": [
    {
     "name": "stdout",
     "output_type": "stream",
     "text": [
      "38382578\n"
     ]
    }
   ],
   "source": [
    "net_profits_losses = sum(profits_losses)\n",
    "print(net_profits_losses)"
   ]
  },
  {
   "cell_type": "code",
   "execution_count": 164,
   "metadata": {},
   "outputs": [
    {
     "name": "stdout",
     "output_type": "stream",
     "text": [
      "446309.0465116279\n"
     ]
    }
   ],
   "source": [
    "average_net_profits_losses = (net_profits_losses/total_months)\n",
    "print(average_net_profits_losses)"
   ]
  },
  {
   "cell_type": "code",
   "execution_count": 165,
   "metadata": {},
   "outputs": [
    {
     "name": "stdout",
     "output_type": "stream",
     "text": [
      "1170593\n"
     ]
    }
   ],
   "source": [
    "greatest_increase = max(profits_losses)\n",
    "print(greatest_increase)"
   ]
  },
  {
   "cell_type": "code",
   "execution_count": 166,
   "metadata": {},
   "outputs": [
    {
     "name": "stdout",
     "output_type": "stream",
     "text": [
      "25\n"
     ]
    }
   ],
   "source": [
    "position = profits_losses.index(greatest_increase)\n",
    "print(position)"
   ]
  },
  {
   "cell_type": "code",
   "execution_count": 167,
   "metadata": {},
   "outputs": [
    {
     "name": "stdout",
     "output_type": "stream",
     "text": [
      "Feb-12\n"
     ]
    }
   ],
   "source": [
    "month_greatest_increase = months[position]\n",
    "print(month_greatest_increase)"
   ]
  },
  {
   "cell_type": "code",
   "execution_count": 168,
   "metadata": {},
   "outputs": [
    {
     "name": "stdout",
     "output_type": "stream",
     "text": [
      "-1196225\n"
     ]
    }
   ],
   "source": [
    "greatest_decrease = min(profits_losses)\n",
    "print(greatest_decrease)"
   ]
  },
  {
   "cell_type": "code",
   "execution_count": 169,
   "metadata": {},
   "outputs": [
    {
     "name": "stdout",
     "output_type": "stream",
     "text": [
      "25\n"
     ]
    }
   ],
   "source": [
    "position_2 = profits_losses.index(greatest_decrease)\n",
    "print(position)"
   ]
  },
  {
   "cell_type": "code",
   "execution_count": 170,
   "metadata": {},
   "outputs": [
    {
     "name": "stdout",
     "output_type": "stream",
     "text": [
      "Sep-13\n"
     ]
    }
   ],
   "source": [
    "month_greatest_decrease = months[position_2]\n",
    "print(month_greatest_decrease)"
   ]
  },
  {
   "cell_type": "code",
   "execution_count": 171,
   "metadata": {},
   "outputs": [
    {
     "name": "stdout",
     "output_type": "stream",
     "text": [
      "Financial Analysis\n",
      "-------------------------------\n",
      "Total Months: 86\n",
      "Net Total Profits/Losses: $ 38382578\n",
      "Average Change in Profits/Losses: $ 446309.0465116279\n",
      "Greatest Increase in Profits: $ 1170593 Feb-12\n",
      "Greatest Decrease in Profits: $ -1196225 Sep-13\n"
     ]
    }
   ],
   "source": [
    "print(\"Financial Analysis\")\n",
    "print(\"-------------------------------\")\n",
    "print(\"Total Months:\", total_months)\n",
    "print(\"Net Total Profits/Losses: $\", net_profits_losses)\n",
    "print(\"Average Change in Profits/Losses: $\", average_net_profits_losses)\n",
    "print(\"Greatest Increase in Profits: $\", greatest_increase, month_greatest_increase)\n",
    "print(\"Greatest Decrease in Profits: $\", greatest_decrease, month_greatest_decrease)"
   ]
  },
  {
   "cell_type": "code",
   "execution_count": 172,
   "metadata": {},
   "outputs": [],
   "source": [
    "output_path = 'output.txt'"
   ]
  },
  {
   "cell_type": "code",
   "execution_count": 175,
   "metadata": {},
   "outputs": [],
   "source": [
    "with open(output_path, 'w') as file:\n",
    "    file.write(f\"Financial Analysis:\\n\")\n",
    "    file.write(\"-------------------------------\\n\")\n",
    "    file.write(f\"Total Months: {total_months}\\n\")\n",
    "    file.write(f\"Net Total Profits/Losses: {net_profits_losses}\\n\")\n",
    "    file.write(f\"Average Change in Profits/Losses: {average_net_profits_losses}\\n\")\n",
    "    file.write(f\"Greatest Increase in Profits: {greatest_increase}, {month_greatest_increase}\\n\")\n",
    "    file.write(f\"Greatest Decrease in Profits: {greatest_decrease}, {month_greatest_decrease}\")"
   ]
  },
  {
   "cell_type": "code",
   "execution_count": null,
   "metadata": {},
   "outputs": [],
   "source": [
    "\n"
   ]
  }
 ],
 "metadata": {
  "kernelspec": {
   "display_name": "Python 3",
   "language": "python",
   "name": "python3"
  },
  "language_info": {
   "codemirror_mode": {
    "name": "ipython",
    "version": 3
   },
   "file_extension": ".py",
   "mimetype": "text/x-python",
   "name": "python",
   "nbconvert_exporter": "python",
   "pygments_lexer": "ipython3",
   "version": "3.7.6"
  }
 },
 "nbformat": 4,
 "nbformat_minor": 4
}
